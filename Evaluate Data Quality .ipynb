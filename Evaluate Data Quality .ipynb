{
 "cells": [
  {
   "cell_type": "markdown",
   "id": "fbbccd19",
   "metadata": {},
   "source": [
    "## <center> Evaluate Data Quality  </center>"
   ]
  },
  {
   "cell_type": "markdown",
   "id": "6c999338",
   "metadata": {},
   "source": [
    "### Import libraries"
   ]
  },
  {
   "cell_type": "code",
   "execution_count": 1,
   "id": "c3e80dfe",
   "metadata": {},
   "outputs": [
    {
     "name": "stdout",
     "output_type": "stream",
     "text": [
      "Requirement already satisfied: ijson in /usr/local/lib/python3.11/site-packages (3.2.2)\n",
      "\n",
      "\u001b[1m[\u001b[0m\u001b[34;49mnotice\u001b[0m\u001b[1;39;49m]\u001b[0m\u001b[39;49m A new release of pip available: \u001b[0m\u001b[31;49m22.3.1\u001b[0m\u001b[39;49m -> \u001b[0m\u001b[32;49m23.1.2\u001b[0m\n",
      "\u001b[1m[\u001b[0m\u001b[34;49mnotice\u001b[0m\u001b[1;39;49m]\u001b[0m\u001b[39;49m To update, run: \u001b[0m\u001b[32;49mpython3.11 -m pip install --upgrade pip\u001b[0m\n"
     ]
    }
   ],
   "source": [
    "!pip3 install ijson"
   ]
  },
  {
   "cell_type": "code",
   "execution_count": 2,
   "id": "c3c3ef29",
   "metadata": {},
   "outputs": [],
   "source": [
    "import json\n",
    "import ijson"
   ]
  },
  {
   "cell_type": "markdown",
   "id": "ad1c5aeb",
   "metadata": {},
   "source": [
    "## Date Format Issue "
   ]
  },
  {
   "cell_type": "code",
   "execution_count": 3,
   "id": "67d492c6",
   "metadata": {
    "scrolled": false
   },
   "outputs": [
    {
     "name": "stdout",
     "output_type": "stream",
     "text": [
      "Brands sample data =  {'_id': {'$oid': '601ac115be37ce2ead437551'}, 'barcode': '511111019862', 'category': 'Baking', 'categoryCode': 'BAKING', 'cpg': {'$id': {'$oid': '601ac114be37ce2ead437550'}, '$ref': 'Cogs'}, 'name': 'test brand @1612366101024', 'topBrand': False} \n",
      "\n",
      "Receipts sample data =  {'_id': {'$oid': '5ff1e1eb0a720f0523000575'}, 'bonusPointsEarned': 500, 'bonusPointsEarnedReason': 'Receipt number 2 completed, bonus point schedule DEFAULT (5cefdcacf3693e0b50e83a36)', 'createDate': {'$date': 1609687531000}, 'dateScanned': {'$date': 1609687531000}, 'finishedDate': {'$date': 1609687531000}, 'modifyDate': {'$date': 1609687536000}, 'pointsAwardedDate': {'$date': 1609687531000}, 'pointsEarned': '500.0', 'purchaseDate': {'$date': 1609632000000}, 'purchasedItemCount': 5, 'rewardsReceiptItemList': [{'barcode': '4011', 'description': 'ITEM NOT FOUND', 'finalPrice': '26.00', 'itemPrice': '26.00', 'needsFetchReview': False, 'partnerItemId': '1', 'preventTargetGapPoints': True, 'quantityPurchased': 5, 'userFlaggedBarcode': '4011', 'userFlaggedNewItem': True, 'userFlaggedPrice': '26.00', 'userFlaggedQuantity': 5}], 'rewardsReceiptStatus': 'FINISHED', 'totalSpent': '26.00', 'userId': '5ff1e1eacfcf6c399c274ae6'} \n",
      "\n",
      "Brands sample data =  {'_id': {'$oid': '5ff1e194b6a9d73a3a9f1052'}, 'active': True, 'createdDate': {'$date': 1609687444800}, 'lastLogin': {'$date': 1609687537858}, 'role': 'consumer', 'signUpSource': 'Email', 'state': 'WI'}\n"
     ]
    }
   ],
   "source": [
    "brand = [json.loads(line) for line in open('brands.json', 'r')]\n",
    "receipt = [json.loads(line) for line in open('receipts.json', 'r')]\n",
    "user = [json.loads(line) for line in open('users.json', 'r')]\n",
    "\n",
    "print('Brands sample data = ',brand[0],'\\n')\n",
    "print('Receipts sample data = ',receipt[0],'\\n')\n",
    "print('Brands sample data = ',user[0],)"
   ]
  },
  {
   "cell_type": "markdown",
   "id": "288010d7",
   "metadata": {},
   "source": [
    "Date Format: The receipts date fields in the JSON data are represented as Unix timestamps. It would be beneficial to convert these timestamps into a more readable date format for better data comprehension and analysis."
   ]
  },
  {
   "attachments": {},
   "cell_type": "markdown",
   "id": "e58ebf00",
   "metadata": {},
   "source": [
    "## Missing or Invalid Data Issue "
   ]
  },
  {
   "cell_type": "code",
   "execution_count": 4,
   "id": "13a2c717",
   "metadata": {
    "scrolled": false
   },
   "outputs": [
    {
     "name": "stdout",
     "output_type": "stream",
     "text": [
      "There are  55 missing values in recipts.jason data\n"
     ]
    }
   ],
   "source": [
    "def check_quality(dic):\n",
    "    empty_values = 0\n",
    "    for key in dic:\n",
    "        if dic[key] is None or dic[key] == \"\":\n",
    "            empty_values += 1\n",
    "            \n",
    "        if type(dic[key]) == list:\n",
    "            for i in dic[key]:\n",
    "                for k in i:\n",
    "                    if i[k] is None or i[k] == \"\":\n",
    "                        empty_values += 1\n",
    "\n",
    "    if empty_values == 0:\n",
    "        dic[\"completed\"] = \"yes\"\n",
    "    else:\n",
    "        dic[\"completed\"] = \"no\"\n",
    "\n",
    "count = 0\n",
    "for d in receipt:\n",
    "    check_quality(d)\n",
    "    if d[\"completed\"] == \"no\":\n",
    "        count += 1\n",
    "print('There are ', count, 'missing values in recipts.jason data')"
   ]
  },
  {
   "cell_type": "markdown",
   "id": "2946f8f1",
   "metadata": {},
   "source": [
    "Missing or Invalid Data: The receipts entries contain some missing or invalid data points. For example, \"userFlaggedDescription\":\"\" means there is null values int the data. Moreover, in the first entry, the \"description\" field is marked as \"ITEM NOT FOUND.\" This suggests that the item information might be incomplete or unavailable. It's important to identify and handle such missing or invalid data to ensure data integrity. "
   ]
  },
  {
   "cell_type": "markdown",
   "id": "8a8cd8f9",
   "metadata": {},
   "source": [
    "### Field Values Issue"
   ]
  },
  {
   "cell_type": "code",
   "execution_count": 5,
   "id": "7715bbff",
   "metadata": {},
   "outputs": [
    {
     "ename": "IncompleteJSONError",
     "evalue": "parse error: trailing garbage\n          ource\":\"Email\",\"state\":\"WI\"} {\"_id\":{\"$oid\":\"5ff1e194b6a9d73\n                     (right here) ------^\n",
     "output_type": "error",
     "traceback": [
      "\u001b[0;31m---------------------------------------------------------------------------\u001b[0m",
      "\u001b[0;31mIncompleteJSONError\u001b[0m                       Traceback (most recent call last)",
      "Cell \u001b[0;32mIn[5], line 3\u001b[0m\n\u001b[1;32m      1\u001b[0m \u001b[38;5;28;01mwith\u001b[39;00m \u001b[38;5;28mopen\u001b[39m(\u001b[38;5;124m\"\u001b[39m\u001b[38;5;124musers.json\u001b[39m\u001b[38;5;124m\"\u001b[39m, \u001b[38;5;124m'\u001b[39m\u001b[38;5;124mr\u001b[39m\u001b[38;5;124m'\u001b[39m) \u001b[38;5;28;01mas\u001b[39;00m f:\n\u001b[1;32m      2\u001b[0m     objects \u001b[38;5;241m=\u001b[39m ijson\u001b[38;5;241m.\u001b[39mitems(f, \u001b[38;5;124m'\u001b[39m\u001b[38;5;124musers.view.columns.item\u001b[39m\u001b[38;5;124m'\u001b[39m)\n\u001b[0;32m----> 3\u001b[0m     columns \u001b[38;5;241m=\u001b[39m \u001b[38;5;28;43mlist\u001b[39;49m\u001b[43m(\u001b[49m\u001b[43mobjects\u001b[49m\u001b[43m)\u001b[49m\n",
      "\u001b[0;31mIncompleteJSONError\u001b[0m: parse error: trailing garbage\n          ource\":\"Email\",\"state\":\"WI\"} {\"_id\":{\"$oid\":\"5ff1e194b6a9d73\n                     (right here) ------^\n"
     ]
    }
   ],
   "source": [
    "with open(\"users.json\", 'r') as f:\n",
    "    objects = ijson.items(f, 'users.view.columns.item')\n",
    "    columns = list(objects)"
   ]
  },
  {
   "cell_type": "markdown",
   "id": "3b0e15e7",
   "metadata": {},
   "source": [
    "Field Values Issue: Some fields contain values that are specific to the data model, such as \"_id\" and \"$oid\" for unique identifiers. These values should be further validated and mapped according to the data requirements."
   ]
  }
 ],
 "metadata": {
  "kernelspec": {
   "display_name": "Python 3 (ipykernel)",
   "language": "python",
   "name": "python3"
  },
  "language_info": {
   "codemirror_mode": {
    "name": "ipython",
    "version": 3
   },
   "file_extension": ".py",
   "mimetype": "text/x-python",
   "name": "python",
   "nbconvert_exporter": "python",
   "pygments_lexer": "ipython3",
   "version": "3.11.2"
  }
 },
 "nbformat": 4,
 "nbformat_minor": 5
}
